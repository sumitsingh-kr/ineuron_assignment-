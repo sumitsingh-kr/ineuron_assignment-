{
 "cells": [
  {
   "cell_type": "code",
   "execution_count": 4,
   "id": "67a50272",
   "metadata": {},
   "outputs": [],
   "source": [
    "#1. \n",
    "*       ->expression\n",
    "'hello' ->value\n",
    "-87.8   ->value\n",
    "-       ->expression\n",
    "+       ->expression\n",
    "/       ->expression\n",
    "6       ->value"
   ]
  },
  {
   "cell_type": "code",
   "execution_count": null,
   "id": "31f385e5",
   "metadata": {},
   "outputs": [],
   "source": [
    "#2. What is the difference between string and variable?\n",
    "Variable:A Variable is a store of information.\n",
    "String: String is a type of information you would store in a Variable, A String is usually words, enclosed with \"\"\n",
    "example: \n",
    "user_id = \"sumit\"\n",
    "\n",
    "here , user_id is variable and sumit is string.\n"
   ]
  },
  {
   "cell_type": "code",
   "execution_count": null,
   "id": "c843747e",
   "metadata": {},
   "outputs": [],
   "source": [
    "#3. Describe three different data types.\n",
    "str = \"Hello Sumit\" \n",
    "int = 1,2,3 -> Integers are int data type\n",
    "float = 1.2,3.5 ->Decimals value are float data type\n",
    "list = [1,2,3,\"sumit\"] ->mutable,hetrogeneous/homogeneous,List items are ordered, changeable, and allow duplicate values. \n",
    "dict= {\"user\":\"sumit\",\"pass\":\"12345\",\"mobile\":\"12345677890\"} -> store values in key and pairs,A dictionary is a collection which is ordered*, changeable and does not allow duplicates."
   ]
  },
  {
   "cell_type": "code",
   "execution_count": null,
   "id": "a7262060",
   "metadata": {},
   "outputs": [],
   "source": [
    "#4.What is an expression made up of? What do all expressions do?\n",
    "An expression is a combination of values, \n",
    "variables, operators, and calls to functions. \n",
    "Expressions need to be evaluated. \n",
    "If you ask Python to print an expression, \n",
    "the interpreter evaluates the expression and displays the result."
   ]
  },
  {
   "cell_type": "code",
   "execution_count": null,
   "id": "277164f0",
   "metadata": {},
   "outputs": [],
   "source": [
    "#5. This assignment statements, like spam = 10. What is the difference between an\n",
    "expression and a statement?\n",
    "An expression evaluates to a value. \n",
    "A statement does something. Statements represent an action or command \n",
    "e.g print statements, assignment statements. Expression is a combination of variables,\n",
    "operations and values that yields a result value."
   ]
  },
  {
   "cell_type": "code",
   "execution_count": 5,
   "id": "787d6cb5",
   "metadata": {},
   "outputs": [
    {
     "data": {
      "text/plain": [
       "21"
      ]
     },
     "execution_count": 5,
     "metadata": {},
     "output_type": "execute_result"
    }
   ],
   "source": [
    "#6. After running the following code, what does the variable bacon contain?\n",
    "bacon =20\n",
    "bacon+1"
   ]
  },
  {
   "cell_type": "code",
   "execution_count": 8,
   "id": "a28ae1ac",
   "metadata": {},
   "outputs": [
    {
     "data": {
      "text/plain": [
       "'spamspamspam'"
      ]
     },
     "execution_count": 8,
     "metadata": {},
     "output_type": "execute_result"
    }
   ],
   "source": [
    "#7. What should the values of the following two terms be?\n",
    "\"spam\"+\"spamspam\"\n",
    "\"spam\"*3"
   ]
  },
  {
   "cell_type": "code",
   "execution_count": null,
   "id": "c590b147",
   "metadata": {},
   "outputs": [],
   "source": [
    "#8. Why is eggs a valid variable name while 100 is invalid?\n",
    "Variable names cannot begin with a number. ... The int(), float(), and str()\n",
    "functions will evaluate to the integer, \n",
    "floating-point number, and string versions of the value passed to them.\n"
   ]
  },
  {
   "cell_type": "code",
   "execution_count": null,
   "id": "edcb6e0c",
   "metadata": {},
   "outputs": [],
   "source": [
    "#9. What three functions can be used to get the integer, floating-point number, or string\n",
    "version of a value?\n",
    "\n",
    "int() , \n",
    "float() , \n",
    "and str( ) \n",
    "functions will evaluate to the integer, floating-point number, and string versions of the value passed to them."
   ]
  },
  {
   "cell_type": "code",
   "execution_count": 10,
   "id": "d6ce256b",
   "metadata": {},
   "outputs": [
    {
     "ename": "TypeError",
     "evalue": "can only concatenate str (not \"int\") to str",
     "output_type": "error",
     "traceback": [
      "\u001b[1;31m---------------------------------------------------------------------------\u001b[0m",
      "\u001b[1;31mTypeError\u001b[0m                                 Traceback (most recent call last)",
      "\u001b[1;32m<ipython-input-10-060ffca15a9a>\u001b[0m in \u001b[0;36m<module>\u001b[1;34m\u001b[0m\n\u001b[0;32m      1\u001b[0m \u001b[1;31m#10. Why does this expression cause an error? How can you fix it?\u001b[0m\u001b[1;33m\u001b[0m\u001b[1;33m\u001b[0m\u001b[1;33m\u001b[0m\u001b[0m\n\u001b[0;32m      2\u001b[0m \u001b[1;33m\u001b[0m\u001b[0m\n\u001b[1;32m----> 3\u001b[1;33m \u001b[1;34m'i have eaten'\u001b[0m\u001b[1;33m+\u001b[0m\u001b[1;36m99\u001b[0m\u001b[1;33m+\u001b[0m\u001b[1;34m'burritos'\u001b[0m\u001b[1;33m\u001b[0m\u001b[1;33m\u001b[0m\u001b[0m\n\u001b[0m",
      "\u001b[1;31mTypeError\u001b[0m: can only concatenate str (not \"int\") to str"
     ]
    }
   ],
   "source": [
    "#10. Why does this expression cause an error? How can you fix it?\n",
    "\n",
    "'i have eaten'+99+'burritos'"
   ]
  },
  {
   "cell_type": "code",
   "execution_count": null,
   "id": "fa38fe62",
   "metadata": {},
   "outputs": [],
   "source": [
    "to get sum of these three the data type have to be same .\n",
    "by assign 99 in '' will get the Summation \n",
    "\n",
    "'i have eaten'+'99'"
   ]
  }
 ],
 "metadata": {
  "kernelspec": {
   "display_name": "Python 3",
   "language": "python",
   "name": "python3"
  },
  "language_info": {
   "codemirror_mode": {
    "name": "ipython",
    "version": 3
   },
   "file_extension": ".py",
   "mimetype": "text/x-python",
   "name": "python",
   "nbconvert_exporter": "python",
   "pygments_lexer": "ipython3",
   "version": "3.8.8"
  }
 },
 "nbformat": 4,
 "nbformat_minor": 5
}
