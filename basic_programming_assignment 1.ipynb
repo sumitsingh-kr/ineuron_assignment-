{
 "cells": [
  {
   "cell_type": "code",
   "execution_count": 1,
   "id": "1832dc15",
   "metadata": {},
   "outputs": [
    {
     "name": "stdout",
     "output_type": "stream",
     "text": [
      "Hello\n"
     ]
    }
   ],
   "source": [
    "#1.Write a Python program to print &quot;Hello Python&quot;?\n",
    "print(\"Hello\")"
   ]
  },
  {
   "cell_type": "code",
   "execution_count": 2,
   "id": "c6ea6d62",
   "metadata": {},
   "outputs": [],
   "source": [
    "#2.Write a Python program to do arithmetical operations addition and division.?\n",
    "sum= 2+4\n",
    "division= 4/2"
   ]
  },
  {
   "cell_type": "code",
   "execution_count": 4,
   "id": "0a79d30a",
   "metadata": {},
   "outputs": [
    {
     "data": {
      "text/plain": [
       "6"
      ]
     },
     "execution_count": 4,
     "metadata": {},
     "output_type": "execute_result"
    }
   ],
   "source": [
    "sum"
   ]
  },
  {
   "cell_type": "code",
   "execution_count": 5,
   "id": "0da2c1fd",
   "metadata": {},
   "outputs": [
    {
     "data": {
      "text/plain": [
       "2.0"
      ]
     },
     "execution_count": 5,
     "metadata": {},
     "output_type": "execute_result"
    }
   ],
   "source": [
    "division"
   ]
  },
  {
   "cell_type": "code",
   "execution_count": null,
   "id": "3e945adf",
   "metadata": {},
   "outputs": [],
   "source": [
    "#3. Write a Python program to find the area of a triangle?\n",
    "side_a = float(input(\"Enter side a:\"))\n",
    "side_b = float(input(\"Enter side b:\"))\n",
    "side_c = float(input(\"Enter side c:\"))\n",
    "\n",
    "# calculate the semi-perimeter  \n",
    "s = float(side_a+side_b+side_c)/2\n",
    "\n",
    "# calculate the area\n",
    "area = (s(s-side_a)*(s-side_b)*(s-side_c))**0.5"
   ]
  },
  {
   "cell_type": "code",
   "execution_count": 14,
   "id": "4ba2329c",
   "metadata": {},
   "outputs": [],
   "source": [
    "#4.Write a Python program to swap two variables?\n",
    "a= 6\n",
    "b=7\n",
    "temp = a\n",
    "a=b\n",
    "b= temp\n",
    "\n"
   ]
  },
  {
   "cell_type": "code",
   "execution_count": null,
   "id": "c1c2b8e0",
   "metadata": {},
   "outputs": [],
   "source": [
    "#5 .Write a Python program to generate a random number?\n",
    "\n",
    "# import random\n",
    "import random\n",
    " \n",
    "# prints a random value from the list\n",
    "list1 = [1, 2, 3, 4, 5, 6]\n",
    "print(random.choice(list1))"
   ]
  }
 ],
 "metadata": {
  "kernelspec": {
   "display_name": "Python 3",
   "language": "python",
   "name": "python3"
  },
  "language_info": {
   "codemirror_mode": {
    "name": "ipython",
    "version": 3
   },
   "file_extension": ".py",
   "mimetype": "text/x-python",
   "name": "python",
   "nbconvert_exporter": "python",
   "pygments_lexer": "ipython3",
   "version": "3.8.8"
  }
 },
 "nbformat": 4,
 "nbformat_minor": 5
}
