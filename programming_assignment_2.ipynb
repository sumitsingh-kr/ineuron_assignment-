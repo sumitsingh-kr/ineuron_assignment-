{
 "cells": [
  {
   "cell_type": "code",
   "execution_count": 1,
   "id": "cb896ce6",
   "metadata": {},
   "outputs": [
    {
     "name": "stdout",
     "output_type": "stream",
     "text": [
      "Enter the value:2\n"
     ]
    }
   ],
   "source": [
    "#1.Write a Python program to convert kilometers to miles?\n",
    "\n",
    "kilometer = float(input(\"Enter the value:\"))\n",
    "mile_1 = 0.621371\n",
    "convert_kilo_to_miles = (kilometer)*(mile_1)\n"
   ]
  },
  {
   "cell_type": "code",
   "execution_count": 2,
   "id": "94ff36a2",
   "metadata": {},
   "outputs": [
    {
     "data": {
      "text/plain": [
       "1.242742"
      ]
     },
     "execution_count": 2,
     "metadata": {},
     "output_type": "execute_result"
    }
   ],
   "source": [
    "convert_kilo_to_miles"
   ]
  },
  {
   "cell_type": "code",
   "execution_count": 1,
   "id": "66aeb09e",
   "metadata": {},
   "outputs": [
    {
     "name": "stdout",
     "output_type": "stream",
     "text": [
      "celsius:110\n"
     ]
    }
   ],
   "source": [
    "#2. Write a Python program to convert Celsius to Fahrenheit?\n",
    "\n",
    "celsius = float(input(\"celsius:\"))\n",
    "fahrenheit = (celsius + 9/5)+32\n"
   ]
  },
  {
   "cell_type": "code",
   "execution_count": 2,
   "id": "340185c9",
   "metadata": {},
   "outputs": [
    {
     "data": {
      "text/plain": [
       "143.8"
      ]
     },
     "execution_count": 2,
     "metadata": {},
     "output_type": "execute_result"
    }
   ],
   "source": [
    "fahrenheit"
   ]
  },
  {
   "cell_type": "code",
   "execution_count": 6,
   "id": "f32d7cde",
   "metadata": {},
   "outputs": [
    {
     "name": "stdout",
     "output_type": "stream",
     "text": [
      "Enter year:2012\n",
      "Enter month:2\n",
      "   February 2012\n",
      "Mo Tu We Th Fr Sa Su\n",
      "       1  2  3  4  5\n",
      " 6  7  8  9 10 11 12\n",
      "13 14 15 16 17 18 19\n",
      "20 21 22 23 24 25 26\n",
      "27 28 29\n",
      "\n"
     ]
    }
   ],
   "source": [
    "#3.Write a Python program to display calendar?\n",
    "\n",
    "import calendar\n",
    "\n",
    "yy = int(input(\"Enter year:\"))\n",
    "mm = int(input(\"Enter month:\"))\n",
    "print(calendar.month(yy,mm))"
   ]
  },
  {
   "cell_type": "code",
   "execution_count": 1,
   "id": "8783e8f4",
   "metadata": {},
   "outputs": [
    {
     "name": "stdout",
     "output_type": "stream",
     "text": [
      "Enter value of  a=1\n",
      "Enter value of  b=5\n",
      "Enter value of  c=6\n"
     ]
    }
   ],
   "source": [
    "#4.Write a Python program to solve quadratic equation?\n",
    "\n",
    "#standard form of quadratic queation is ax**2 + bx +c = 0\n",
    "#where a !=0 \n",
    "\n",
    "a = float(input(\"Enter value of  a=\"))\n",
    "if a == 0:\n",
    "    print(\"Please enter value non zero\")\n",
    "else:\n",
    "    b= float(input(\"Enter value of  b=\"))\n",
    "    c =float(input(\"Enter value of  c=\"))\n",
    "    \n",
    "    d = (b**2) - (4*a*c)\n",
    "    root1 = (-b + d)/2*a\n",
    "    root2 = (-b -d)/2*a"
   ]
  },
  {
   "cell_type": "code",
   "execution_count": 2,
   "id": "37a374a7",
   "metadata": {},
   "outputs": [
    {
     "data": {
      "text/plain": [
       "-2.0"
      ]
     },
     "execution_count": 2,
     "metadata": {},
     "output_type": "execute_result"
    }
   ],
   "source": [
    "root1"
   ]
  },
  {
   "cell_type": "code",
   "execution_count": 3,
   "id": "8e8bd798",
   "metadata": {},
   "outputs": [
    {
     "data": {
      "text/plain": [
       "-3.0"
      ]
     },
     "execution_count": 3,
     "metadata": {},
     "output_type": "execute_result"
    }
   ],
   "source": [
    "root2"
   ]
  },
  {
   "cell_type": "code",
   "execution_count": 4,
   "id": "ac408740",
   "metadata": {},
   "outputs": [],
   "source": [
    "#5.Write a Python program to swap two variables without temp variable?\n",
    "\n",
    "a = 7\n",
    "b = 5\n",
    "a,b = b,a"
   ]
  },
  {
   "cell_type": "code",
   "execution_count": 5,
   "id": "455cd4f0",
   "metadata": {},
   "outputs": [
    {
     "data": {
      "text/plain": [
       "5"
      ]
     },
     "execution_count": 5,
     "metadata": {},
     "output_type": "execute_result"
    }
   ],
   "source": [
    "a"
   ]
  },
  {
   "cell_type": "code",
   "execution_count": 6,
   "id": "707cd6e7",
   "metadata": {},
   "outputs": [
    {
     "data": {
      "text/plain": [
       "7"
      ]
     },
     "execution_count": 6,
     "metadata": {},
     "output_type": "execute_result"
    }
   ],
   "source": [
    "b"
   ]
  },
  {
   "cell_type": "code",
   "execution_count": 7,
   "id": "0bce0f43",
   "metadata": {},
   "outputs": [
    {
     "data": {
      "text/plain": [
       "7"
      ]
     },
     "execution_count": 7,
     "metadata": {},
     "output_type": "execute_result"
    }
   ],
   "source": [
    "b"
   ]
  },
  {
   "cell_type": "code",
   "execution_count": null,
   "id": "2436a231",
   "metadata": {},
   "outputs": [],
   "source": []
  }
 ],
 "metadata": {
  "kernelspec": {
   "display_name": "Python 3",
   "language": "python",
   "name": "python3"
  },
  "language_info": {
   "codemirror_mode": {
    "name": "ipython",
    "version": 3
   },
   "file_extension": ".py",
   "mimetype": "text/x-python",
   "name": "python",
   "nbconvert_exporter": "python",
   "pygments_lexer": "ipython3",
   "version": "3.8.8"
  }
 },
 "nbformat": 4,
 "nbformat_minor": 5
}
