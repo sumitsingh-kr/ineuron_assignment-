{
 "cells": [
  {
   "cell_type": "code",
   "execution_count": 13,
   "id": "7cf1a0e4",
   "metadata": {},
   "outputs": [
    {
     "name": "stdout",
     "output_type": "stream",
     "text": [
      "Enter the number:4\n",
      "24\n"
     ]
    }
   ],
   "source": [
    "#1. Write a Python Program to Find the Factorial of a Number?\n",
    "\n",
    "n = int(input(\"Enter the number:\"))\n",
    "factorial = 1\n",
    "if n < 0:\n",
    "    print(\"Factorial is not valid for negative number\")\n",
    "elif(n == 0):\n",
    "    print(\"Factorial for zero is 1\")\n",
    "else:\n",
    "    for i in range(1,n+1):\n",
    "        factorial = factorial*i\n",
    "    print(factorial)"
   ]
  },
  {
   "cell_type": "code",
   "execution_count": 18,
   "id": "59267817",
   "metadata": {},
   "outputs": [
    {
     "name": "stdout",
     "output_type": "stream",
     "text": [
      "Enter the number:10\n",
      "10 X 1 = 10\n",
      "10 X 2 = 20\n",
      "10 X 3 = 30\n",
      "10 X 4 = 40\n",
      "10 X 5 = 50\n",
      "10 X 6 = 60\n",
      "10 X 7 = 70\n",
      "10 X 8 = 80\n",
      "10 X 9 = 90\n",
      "10 X 10 = 100\n"
     ]
    }
   ],
   "source": [
    "#2. Write a Python Program to Display the multiplication Table?\n",
    "\n",
    "number = int(input(\"Enter the number:\"))\n",
    "\n",
    "for i in range(1,number+1):\n",
    "    print(number,\"X\",i, \"=\", number*i)\n",
    "\n"
   ]
  },
  {
   "cell_type": "code",
   "execution_count": 29,
   "id": "7e5387ea",
   "metadata": {},
   "outputs": [
    {
     "name": "stdout",
     "output_type": "stream",
     "text": [
      "Enter the number:5\n",
      "[0, 1, 1, 2, 3]\n"
     ]
    }
   ],
   "source": [
    "#3. Write a Python Program to Print the Fibonacci sequence?\n",
    "num = int(input(\"Enter the number:\"))\n",
    "fibonacciSeries = [0,1]\n",
    "\n",
    "if num>2:\n",
    "    for i in range(2, num):\n",
    "        nextElement = fibonacciSeries[i-1] + fibonacciSeries[i-2]\n",
    "        fibonacciSeries.append(nextElement)\n",
    "\n",
    "print(fibonacciSeries)"
   ]
  },
  {
   "cell_type": "code",
   "execution_count": 3,
   "id": "968c57a6",
   "metadata": {},
   "outputs": [
    {
     "name": "stdout",
     "output_type": "stream",
     "text": [
      "Enter the number:111\n",
      "111 is not an Armstrong number\n"
     ]
    }
   ],
   "source": [
    "#4.Write a Python Program to Check Armstrong Number?\n",
    "\n",
    "num = int(input(\"Enter the number:\"))\n",
    "sum = 0\n",
    "\n",
    "temp = num\n",
    "while temp > 0:\n",
    "   digit = temp % 10\n",
    "   sum += digit ** 3\n",
    "   temp //= 10\n",
    "\n",
    "if num == sum:\n",
    "   print(num,\"is an Armstrong number\")\n",
    "else:\n",
    "   print(num,\"is not an Armstrong number\")\n"
   ]
  },
  {
   "cell_type": "code",
   "execution_count": 5,
   "id": "04e099bb",
   "metadata": {},
   "outputs": [
    {
     "name": "stdout",
     "output_type": "stream",
     "text": [
      "Enter the value:3\n"
     ]
    }
   ],
   "source": [
    "#5.Write a Python Program to Find the Sum of Natural Numbers?\n",
    "\n",
    "num = int(input(\"Enter the value:\"))\n",
    "sum = ( num*(num+1))/2"
   ]
  },
  {
   "cell_type": "code",
   "execution_count": 6,
   "id": "8963ef5b",
   "metadata": {},
   "outputs": [
    {
     "data": {
      "text/plain": [
       "6.0"
      ]
     },
     "execution_count": 6,
     "metadata": {},
     "output_type": "execute_result"
    }
   ],
   "source": [
    "sum\n"
   ]
  },
  {
   "cell_type": "code",
   "execution_count": null,
   "id": "fccd3db7",
   "metadata": {},
   "outputs": [],
   "source": []
  }
 ],
 "metadata": {
  "kernelspec": {
   "display_name": "Python 3",
   "language": "python",
   "name": "python3"
  },
  "language_info": {
   "codemirror_mode": {
    "name": "ipython",
    "version": 3
   },
   "file_extension": ".py",
   "mimetype": "text/x-python",
   "name": "python",
   "nbconvert_exporter": "python",
   "pygments_lexer": "ipython3",
   "version": "3.8.8"
  }
 },
 "nbformat": 4,
 "nbformat_minor": 5
}
